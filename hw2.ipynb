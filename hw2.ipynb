{
 "cells": [
  {
   "cell_type": "code",
   "execution_count": 1,
   "metadata": {},
   "outputs": [],
   "source": [
    "import pandas as pd\n",
    "import numpy as np\n",
    "import matplotlib.pyplot as plt\n",
    "import matplotlib.image as mpimg\n",
    "import scipy\n",
    "from sklearn.preprocessing import Imputer\n",
    "from sklearn.preprocessing import StandardScaler\n",
    "from sklearn.decomposition import PCA\n",
    "from sklearn import linear_model\n",
    "from sklearn.model_selection import train_test_split\n",
    "from sklearn.metrics import mean_squared_error\n",
    "from math import sqrt\n",
    "import seaborn as sns"
   ]
  },
  {
   "cell_type": "code",
   "execution_count": 2,
   "metadata": {},
   "outputs": [
    {
     "data": {
      "text/plain": [
       "9.0"
      ]
     },
     "execution_count": 2,
     "metadata": {},
     "output_type": "execute_result"
    }
   ],
   "source": [
    "# problem 1\n",
    "list = [-3, -1, 1, 3, 5, 7]\n",
    "a = 7 + (7-5)/(6-5) * (7-6)\n",
    "a"
   ]
  },
  {
   "cell_type": "code",
   "execution_count": 3,
   "metadata": {},
   "outputs": [],
   "source": [
    "# problem 2\n",
    "file_name = 'processed.cleveland.data'\n",
    "data = pd.read_csv('processed.cleveland.data', header=None)\n",
    "pd.set_option('display.max_rows', None)\n",
    "pd.set_option('display.max_columns', None)"
   ]
  },
  {
   "cell_type": "code",
   "execution_count": 4,
   "metadata": {},
   "outputs": [],
   "source": [
    "# data cleaning\n",
    "# name columns\n",
    "data.columns = ['age', 'sex', 'cp', 'trestbps', 'chol', 'fbs',\n",
    "               'restecg', 'thalach', 'exang', 'oldpeak', 'slope',\n",
    "               'ca', 'thal', 'num']\n",
    "# change num to binary: no presence = 0; presence = 1\n",
    "data['num'] = data['num'].replace([1, 2, 3, 4], 1)\n",
    "# is this balanced?\n",
    "heart_disease_present = len(data[data.num == 1])/len(data)\n",
    "heart_dss_not_present = len(data[data.num == 0])/len(data)"
   ]
  },
  {
   "cell_type": "code",
   "execution_count": 5,
   "metadata": {},
   "outputs": [
    {
     "data": {
      "text/html": [
       "<div>\n",
       "<style scoped>\n",
       "    .dataframe tbody tr th:only-of-type {\n",
       "        vertical-align: middle;\n",
       "    }\n",
       "\n",
       "    .dataframe tbody tr th {\n",
       "        vertical-align: top;\n",
       "    }\n",
       "\n",
       "    .dataframe thead th {\n",
       "        text-align: right;\n",
       "    }\n",
       "</style>\n",
       "<table border=\"1\" class=\"dataframe\">\n",
       "  <thead>\n",
       "    <tr style=\"text-align: right;\">\n",
       "      <th></th>\n",
       "      <th>age</th>\n",
       "      <th>sex</th>\n",
       "      <th>cp</th>\n",
       "      <th>trestbps</th>\n",
       "      <th>chol</th>\n",
       "      <th>fbs</th>\n",
       "      <th>restecg</th>\n",
       "      <th>thalach</th>\n",
       "      <th>exang</th>\n",
       "      <th>oldpeak</th>\n",
       "      <th>slope</th>\n",
       "      <th>num</th>\n",
       "    </tr>\n",
       "  </thead>\n",
       "  <tbody>\n",
       "    <tr>\n",
       "      <td>count</td>\n",
       "      <td>303.00</td>\n",
       "      <td>303.00</td>\n",
       "      <td>303.00</td>\n",
       "      <td>303.00</td>\n",
       "      <td>303.00</td>\n",
       "      <td>303.00</td>\n",
       "      <td>303.00</td>\n",
       "      <td>303.00</td>\n",
       "      <td>303.00</td>\n",
       "      <td>303.00</td>\n",
       "      <td>303.00</td>\n",
       "      <td>303.00</td>\n",
       "    </tr>\n",
       "    <tr>\n",
       "      <td>mean</td>\n",
       "      <td>54.44</td>\n",
       "      <td>0.68</td>\n",
       "      <td>3.16</td>\n",
       "      <td>131.69</td>\n",
       "      <td>246.69</td>\n",
       "      <td>0.15</td>\n",
       "      <td>0.99</td>\n",
       "      <td>149.61</td>\n",
       "      <td>0.33</td>\n",
       "      <td>1.04</td>\n",
       "      <td>1.60</td>\n",
       "      <td>0.46</td>\n",
       "    </tr>\n",
       "    <tr>\n",
       "      <td>std</td>\n",
       "      <td>9.04</td>\n",
       "      <td>0.47</td>\n",
       "      <td>0.96</td>\n",
       "      <td>17.60</td>\n",
       "      <td>51.78</td>\n",
       "      <td>0.36</td>\n",
       "      <td>0.99</td>\n",
       "      <td>22.88</td>\n",
       "      <td>0.47</td>\n",
       "      <td>1.16</td>\n",
       "      <td>0.62</td>\n",
       "      <td>0.50</td>\n",
       "    </tr>\n",
       "    <tr>\n",
       "      <td>min</td>\n",
       "      <td>29.00</td>\n",
       "      <td>0.00</td>\n",
       "      <td>1.00</td>\n",
       "      <td>94.00</td>\n",
       "      <td>126.00</td>\n",
       "      <td>0.00</td>\n",
       "      <td>0.00</td>\n",
       "      <td>71.00</td>\n",
       "      <td>0.00</td>\n",
       "      <td>0.00</td>\n",
       "      <td>1.00</td>\n",
       "      <td>0.00</td>\n",
       "    </tr>\n",
       "    <tr>\n",
       "      <td>25%</td>\n",
       "      <td>48.00</td>\n",
       "      <td>0.00</td>\n",
       "      <td>3.00</td>\n",
       "      <td>120.00</td>\n",
       "      <td>211.00</td>\n",
       "      <td>0.00</td>\n",
       "      <td>0.00</td>\n",
       "      <td>133.50</td>\n",
       "      <td>0.00</td>\n",
       "      <td>0.00</td>\n",
       "      <td>1.00</td>\n",
       "      <td>0.00</td>\n",
       "    </tr>\n",
       "    <tr>\n",
       "      <td>50%</td>\n",
       "      <td>56.00</td>\n",
       "      <td>1.00</td>\n",
       "      <td>3.00</td>\n",
       "      <td>130.00</td>\n",
       "      <td>241.00</td>\n",
       "      <td>0.00</td>\n",
       "      <td>1.00</td>\n",
       "      <td>153.00</td>\n",
       "      <td>0.00</td>\n",
       "      <td>0.80</td>\n",
       "      <td>2.00</td>\n",
       "      <td>0.00</td>\n",
       "    </tr>\n",
       "    <tr>\n",
       "      <td>75%</td>\n",
       "      <td>61.00</td>\n",
       "      <td>1.00</td>\n",
       "      <td>4.00</td>\n",
       "      <td>140.00</td>\n",
       "      <td>275.00</td>\n",
       "      <td>0.00</td>\n",
       "      <td>2.00</td>\n",
       "      <td>166.00</td>\n",
       "      <td>1.00</td>\n",
       "      <td>1.60</td>\n",
       "      <td>2.00</td>\n",
       "      <td>1.00</td>\n",
       "    </tr>\n",
       "    <tr>\n",
       "      <td>max</td>\n",
       "      <td>77.00</td>\n",
       "      <td>1.00</td>\n",
       "      <td>4.00</td>\n",
       "      <td>200.00</td>\n",
       "      <td>564.00</td>\n",
       "      <td>1.00</td>\n",
       "      <td>2.00</td>\n",
       "      <td>202.00</td>\n",
       "      <td>1.00</td>\n",
       "      <td>6.20</td>\n",
       "      <td>3.00</td>\n",
       "      <td>1.00</td>\n",
       "    </tr>\n",
       "  </tbody>\n",
       "</table>\n",
       "</div>"
      ],
      "text/plain": [
       "          age     sex      cp  trestbps    chol     fbs  restecg  thalach  \\\n",
       "count  303.00  303.00  303.00    303.00  303.00  303.00   303.00   303.00   \n",
       "mean    54.44    0.68    3.16    131.69  246.69    0.15     0.99   149.61   \n",
       "std      9.04    0.47    0.96     17.60   51.78    0.36     0.99    22.88   \n",
       "min     29.00    0.00    1.00     94.00  126.00    0.00     0.00    71.00   \n",
       "25%     48.00    0.00    3.00    120.00  211.00    0.00     0.00   133.50   \n",
       "50%     56.00    1.00    3.00    130.00  241.00    0.00     1.00   153.00   \n",
       "75%     61.00    1.00    4.00    140.00  275.00    0.00     2.00   166.00   \n",
       "max     77.00    1.00    4.00    200.00  564.00    1.00     2.00   202.00   \n",
       "\n",
       "        exang  oldpeak   slope     num  \n",
       "count  303.00   303.00  303.00  303.00  \n",
       "mean     0.33     1.04    1.60    0.46  \n",
       "std      0.47     1.16    0.62    0.50  \n",
       "min      0.00     0.00    1.00    0.00  \n",
       "25%      0.00     0.00    1.00    0.00  \n",
       "50%      0.00     0.80    2.00    0.00  \n",
       "75%      1.00     1.60    2.00    1.00  \n",
       "max      1.00     6.20    3.00    1.00  "
      ]
     },
     "execution_count": 5,
     "metadata": {},
     "output_type": "execute_result"
    }
   ],
   "source": [
    "data_drop = data.dropna()\n",
    "round(data_drop.describe(), 2)"
   ]
  },
  {
   "cell_type": "code",
   "execution_count": 6,
   "metadata": {},
   "outputs": [
    {
     "name": "stderr",
     "output_type": "stream",
     "text": [
      "/Users/skatta/opt/anaconda3/lib/python3.7/site-packages/sklearn/utils/deprecation.py:66: DeprecationWarning: Class Imputer is deprecated; Imputer was deprecated in version 0.20 and will be removed in 0.22. Import impute.SimpleImputer from sklearn instead.\n",
      "  warnings.warn(msg, category=DeprecationWarning)\n"
     ]
    },
    {
     "data": {
      "text/html": [
       "<div>\n",
       "<style scoped>\n",
       "    .dataframe tbody tr th:only-of-type {\n",
       "        vertical-align: middle;\n",
       "    }\n",
       "\n",
       "    .dataframe tbody tr th {\n",
       "        vertical-align: top;\n",
       "    }\n",
       "\n",
       "    .dataframe thead th {\n",
       "        text-align: right;\n",
       "    }\n",
       "</style>\n",
       "<table border=\"1\" class=\"dataframe\">\n",
       "  <thead>\n",
       "    <tr style=\"text-align: right;\">\n",
       "      <th></th>\n",
       "      <th>age</th>\n",
       "      <th>sex</th>\n",
       "      <th>cp</th>\n",
       "      <th>trestbps</th>\n",
       "      <th>chol</th>\n",
       "      <th>fbs</th>\n",
       "      <th>restecg</th>\n",
       "      <th>thalach</th>\n",
       "      <th>exang</th>\n",
       "      <th>oldpeak</th>\n",
       "      <th>slope</th>\n",
       "      <th>ca</th>\n",
       "      <th>thal</th>\n",
       "      <th>num</th>\n",
       "    </tr>\n",
       "  </thead>\n",
       "  <tbody>\n",
       "    <tr>\n",
       "      <td>count</td>\n",
       "      <td>303.00</td>\n",
       "      <td>303.00</td>\n",
       "      <td>303.00</td>\n",
       "      <td>303.00</td>\n",
       "      <td>303.00</td>\n",
       "      <td>303.00</td>\n",
       "      <td>303.00</td>\n",
       "      <td>303.00</td>\n",
       "      <td>303.00</td>\n",
       "      <td>303.00</td>\n",
       "      <td>303.00</td>\n",
       "      <td>303.00</td>\n",
       "      <td>303.00</td>\n",
       "      <td>303.00</td>\n",
       "    </tr>\n",
       "    <tr>\n",
       "      <td>mean</td>\n",
       "      <td>54.44</td>\n",
       "      <td>0.68</td>\n",
       "      <td>3.16</td>\n",
       "      <td>131.69</td>\n",
       "      <td>246.69</td>\n",
       "      <td>0.15</td>\n",
       "      <td>0.99</td>\n",
       "      <td>149.61</td>\n",
       "      <td>0.33</td>\n",
       "      <td>1.04</td>\n",
       "      <td>1.60</td>\n",
       "      <td>0.67</td>\n",
       "      <td>4.73</td>\n",
       "      <td>0.46</td>\n",
       "    </tr>\n",
       "    <tr>\n",
       "      <td>std</td>\n",
       "      <td>9.04</td>\n",
       "      <td>0.47</td>\n",
       "      <td>0.96</td>\n",
       "      <td>17.60</td>\n",
       "      <td>51.78</td>\n",
       "      <td>0.36</td>\n",
       "      <td>0.99</td>\n",
       "      <td>22.88</td>\n",
       "      <td>0.47</td>\n",
       "      <td>1.16</td>\n",
       "      <td>0.62</td>\n",
       "      <td>0.93</td>\n",
       "      <td>1.93</td>\n",
       "      <td>0.50</td>\n",
       "    </tr>\n",
       "    <tr>\n",
       "      <td>min</td>\n",
       "      <td>29.00</td>\n",
       "      <td>0.00</td>\n",
       "      <td>1.00</td>\n",
       "      <td>94.00</td>\n",
       "      <td>126.00</td>\n",
       "      <td>0.00</td>\n",
       "      <td>0.00</td>\n",
       "      <td>71.00</td>\n",
       "      <td>0.00</td>\n",
       "      <td>0.00</td>\n",
       "      <td>1.00</td>\n",
       "      <td>0.00</td>\n",
       "      <td>3.00</td>\n",
       "      <td>0.00</td>\n",
       "    </tr>\n",
       "    <tr>\n",
       "      <td>25%</td>\n",
       "      <td>48.00</td>\n",
       "      <td>0.00</td>\n",
       "      <td>3.00</td>\n",
       "      <td>120.00</td>\n",
       "      <td>211.00</td>\n",
       "      <td>0.00</td>\n",
       "      <td>0.00</td>\n",
       "      <td>133.50</td>\n",
       "      <td>0.00</td>\n",
       "      <td>0.00</td>\n",
       "      <td>1.00</td>\n",
       "      <td>0.00</td>\n",
       "      <td>3.00</td>\n",
       "      <td>0.00</td>\n",
       "    </tr>\n",
       "    <tr>\n",
       "      <td>50%</td>\n",
       "      <td>56.00</td>\n",
       "      <td>1.00</td>\n",
       "      <td>3.00</td>\n",
       "      <td>130.00</td>\n",
       "      <td>241.00</td>\n",
       "      <td>0.00</td>\n",
       "      <td>1.00</td>\n",
       "      <td>153.00</td>\n",
       "      <td>0.00</td>\n",
       "      <td>0.80</td>\n",
       "      <td>2.00</td>\n",
       "      <td>0.00</td>\n",
       "      <td>3.00</td>\n",
       "      <td>0.00</td>\n",
       "    </tr>\n",
       "    <tr>\n",
       "      <td>75%</td>\n",
       "      <td>61.00</td>\n",
       "      <td>1.00</td>\n",
       "      <td>4.00</td>\n",
       "      <td>140.00</td>\n",
       "      <td>275.00</td>\n",
       "      <td>0.00</td>\n",
       "      <td>2.00</td>\n",
       "      <td>166.00</td>\n",
       "      <td>1.00</td>\n",
       "      <td>1.60</td>\n",
       "      <td>2.00</td>\n",
       "      <td>1.00</td>\n",
       "      <td>7.00</td>\n",
       "      <td>1.00</td>\n",
       "    </tr>\n",
       "    <tr>\n",
       "      <td>max</td>\n",
       "      <td>77.00</td>\n",
       "      <td>1.00</td>\n",
       "      <td>4.00</td>\n",
       "      <td>200.00</td>\n",
       "      <td>564.00</td>\n",
       "      <td>1.00</td>\n",
       "      <td>2.00</td>\n",
       "      <td>202.00</td>\n",
       "      <td>1.00</td>\n",
       "      <td>6.20</td>\n",
       "      <td>3.00</td>\n",
       "      <td>3.00</td>\n",
       "      <td>7.00</td>\n",
       "      <td>1.00</td>\n",
       "    </tr>\n",
       "  </tbody>\n",
       "</table>\n",
       "</div>"
      ],
      "text/plain": [
       "          age     sex      cp  trestbps    chol     fbs  restecg  thalach  \\\n",
       "count  303.00  303.00  303.00    303.00  303.00  303.00   303.00   303.00   \n",
       "mean    54.44    0.68    3.16    131.69  246.69    0.15     0.99   149.61   \n",
       "std      9.04    0.47    0.96     17.60   51.78    0.36     0.99    22.88   \n",
       "min     29.00    0.00    1.00     94.00  126.00    0.00     0.00    71.00   \n",
       "25%     48.00    0.00    3.00    120.00  211.00    0.00     0.00   133.50   \n",
       "50%     56.00    1.00    3.00    130.00  241.00    0.00     1.00   153.00   \n",
       "75%     61.00    1.00    4.00    140.00  275.00    0.00     2.00   166.00   \n",
       "max     77.00    1.00    4.00    200.00  564.00    1.00     2.00   202.00   \n",
       "\n",
       "        exang  oldpeak   slope      ca    thal     num  \n",
       "count  303.00   303.00  303.00  303.00  303.00  303.00  \n",
       "mean     0.33     1.04    1.60    0.67    4.73    0.46  \n",
       "std      0.47     1.16    0.62    0.93    1.93    0.50  \n",
       "min      0.00     0.00    1.00    0.00    3.00    0.00  \n",
       "25%      0.00     0.00    1.00    0.00    3.00    0.00  \n",
       "50%      0.00     0.80    2.00    0.00    3.00    0.00  \n",
       "75%      1.00     1.60    2.00    1.00    7.00    1.00  \n",
       "max      1.00     6.20    3.00    3.00    7.00    1.00  "
      ]
     },
     "execution_count": 6,
     "metadata": {},
     "output_type": "execute_result"
    }
   ],
   "source": [
    "mean_imputer = Imputer(missing_values = np.NaN, strategy = 'mean', axis = 0)\n",
    "# Train the imputor on the df dataset\n",
    "data = data.replace('?', np.nan)\n",
    "mean_imputer = mean_imputer.fit(data)\n",
    "data_mean = pd.DataFrame(mean_imputer.transform(data.values))\n",
    "data_mean.columns = data_drop.columns\n",
    "round(data_mean.describe(), 2)"
   ]
  },
  {
   "cell_type": "code",
   "execution_count": 7,
   "metadata": {},
   "outputs": [
    {
     "data": {
      "image/png": "[encoded data removed]",
      "text/plain": [
       "<Figure size 432x288 with 1 Axes>"
      ]
     },
     "metadata": {
      "needs_background": "light"
     },
     "output_type": "display_data"
    }
   ],
   "source": [
    "# I don't see a relationship...\n",
    "scatter = plt.figure(0)\n",
    "ax = scatter.add_subplot(111)\n",
    "ax.scatter(data_mean['cp'], data_mean['age'])\n",
    "plt.xlabel('Chest Pain Type')\n",
    "plt.ylabel('Age')\n",
    "plt.title('Chest Pain Type by Age')\n",
    "plt.savefig('scatter.png')"
   ]
  },
  {
   "cell_type": "code",
   "execution_count": 8,
   "metadata": {},
   "outputs": [
    {
     "data": {
      "image/png": "[encoded data removed]",
      "text/plain": [
       "<Figure size 432x288 with 1 Axes>"
      ]
     },
     "metadata": {
      "needs_background": "light"
     },
     "output_type": "display_data"
    }
   ],
   "source": [
    "# bar plot\n",
    "male_num_avg = np.average(data_mean[data_mean.sex == 1]['num']) * 100\n",
    "feml_num_avg = np.average(data_mean[data_mean.sex == 0]['num']) * 100\n",
    "bar = plt.figure(1)\n",
    "ax1 = bar.add_subplot(111)\n",
    "ax1.bar(['Male', 'Female'], [male_num_avg, feml_num_avg])\n",
    "plt.title('Does Sex Affect Having Heart Disease?')\n",
    "plt.xlabel('Sex')\n",
    "plt.ylabel('Percent with Heart Disease')\n",
    "plt.savefig('sex_plots.png')"
   ]
  },
  {
   "cell_type": "code",
   "execution_count": 9,
   "metadata": {},
   "outputs": [
    {
     "data": {
      "text/html": [
       "<div>\n",
       "<style scoped>\n",
       "    .dataframe tbody tr th:only-of-type {\n",
       "        vertical-align: middle;\n",
       "    }\n",
       "\n",
       "    .dataframe tbody tr th {\n",
       "        vertical-align: top;\n",
       "    }\n",
       "\n",
       "    .dataframe thead th {\n",
       "        text-align: right;\n",
       "    }\n",
       "</style>\n",
       "<table border=\"1\" class=\"dataframe\">\n",
       "  <thead>\n",
       "    <tr style=\"text-align: right;\">\n",
       "      <th></th>\n",
       "      <th>Heart Disease Present</th>\n",
       "      <th>Heart Disease Not Present</th>\n",
       "    </tr>\n",
       "  </thead>\n",
       "  <tbody>\n",
       "    <tr>\n",
       "      <td>0</td>\n",
       "      <td>0.44</td>\n",
       "      <td>0.56</td>\n",
       "    </tr>\n",
       "    <tr>\n",
       "      <td>1</td>\n",
       "      <td>0.44</td>\n",
       "      <td>0.56</td>\n",
       "    </tr>\n",
       "    <tr>\n",
       "      <td>2</td>\n",
       "      <td>0.42</td>\n",
       "      <td>0.58</td>\n",
       "    </tr>\n",
       "    <tr>\n",
       "      <td>3</td>\n",
       "      <td>0.44</td>\n",
       "      <td>0.56</td>\n",
       "    </tr>\n",
       "    <tr>\n",
       "      <td>4</td>\n",
       "      <td>0.42</td>\n",
       "      <td>0.58</td>\n",
       "    </tr>\n",
       "    <tr>\n",
       "      <td>5</td>\n",
       "      <td>0.42</td>\n",
       "      <td>0.58</td>\n",
       "    </tr>\n",
       "  </tbody>\n",
       "</table>\n",
       "</div>"
      ],
      "text/plain": [
       "   Heart Disease Present  Heart Disease Not Present\n",
       "0                   0.44                       0.56\n",
       "1                   0.44                       0.56\n",
       "2                   0.42                       0.58\n",
       "3                   0.44                       0.56\n",
       "4                   0.42                       0.58\n",
       "5                   0.42                       0.58"
      ]
     },
     "metadata": {},
     "output_type": "display_data"
    }
   ],
   "source": [
    "# 6 random samples\n",
    "samples = [\n",
    "    data_mean.sample(n = 50, random_state = 1),\n",
    "    data_mean.sample(n = 50, random_state = 2),\n",
    "    data_mean.sample(n = 50, random_state = 3),\n",
    "    data_mean.sample(n = 50, random_state = 4),\n",
    "    data_mean.sample(n = 50, random_state = 5),\n",
    "    data_mean.sample(n = 50, random_state = 6)\n",
    "]\n",
    "# are samples balanced?\n",
    "balanced = []\n",
    "for i in samples:\n",
    "    heart_disease_present = len(i[i.num == 1])/len(i)\n",
    "    heart_dss_not_present = len(i[i.num == 0])/len(i)\n",
    "    balanced.append([heart_disease_present, heart_dss_not_present])\n",
    "balanced = pd.DataFrame(balanced, columns = ['Heart Disease Present', 'Heart Disease Not Present'])\n",
    "display(balanced)"
   ]
  },
  {
   "cell_type": "code",
   "execution_count": 10,
   "metadata": {},
   "outputs": [
    {
     "data": {
      "image/png": "[encoded data removed]",
      "text/plain": [
       "<Figure size 432x288 with 1 Axes>"
      ]
     },
     "metadata": {
      "needs_background": "light"
     },
     "output_type": "display_data"
    }
   ],
   "source": [
    "male_smpl = []\n",
    "fml_smpl = []\n",
    "for i in samples:\n",
    "    male_smpl.append(np.average(i[i.sex == 1]['num']) * 100)\n",
    "    fml_smpl.append(np.average(i[i.sex == 0]['num']) * 100)\n",
    "smpl_means = pd.DataFrame(male_smpl, fml_smpl)\n",
    "X = np.arange(1, 7)\n",
    "smpl_plots = plt.figure(2)\n",
    "ax = smpl_plots.add_subplot(111)\n",
    "ax.bar(X - .125, male_smpl, color = 'b', width = 0.25)\n",
    "ax.bar(X + .125, fml_smpl, color = 'r', width = 0.25)\n",
    "ax.legend(['Male', 'Female'], loc = 2, title = 'Sex')\n",
    "plt.xlabel('Sample Number (N = 50)')\n",
    "plt.ylabel('Percent with Heart Disease')\n",
    "plt.title('Percent of People with Heart Disease by Gender')\n",
    "plt.ylim(0, 70)\n",
    "plt.savefig('sample_plots.png')\n",
    "plt.show()"
   ]
  },
  {
   "cell_type": "code",
   "execution_count": 11,
   "metadata": {},
   "outputs": [
    {
     "name": "stdout",
     "output_type": "stream",
     "text": [
      "3\n"
     ]
    },
    {
     "data": {
      "text/plain": [
       "<matplotlib.image.AxesImage at 0x1a1d9f2d10>"
      ]
     },
     "execution_count": 11,
     "metadata": {},
     "output_type": "execute_result"
    },
    {
     "data": {
      "image/png": "[encoded data removed]",
      "text/plain": [
       "<Figure size 432x288 with 1 Axes>"
      ]
     },
     "metadata": {
      "needs_background": "light"
     },
     "output_type": "display_data"
    }
   ],
   "source": [
    "# Problem 4\n",
    "img = plt.imread('/Users/skatta/Desktop/cis5523/hw2_2020_problem4_Face.png')\n",
    "img = img/255\n",
    "plt.imshow(img, cmap = 'gray')\n",
    "\n",
    "pca_1 = PCA(1)\n",
    "pca_1.fit(img)\n",
    "components_1 = pca_1.transform(img)\n",
    "projected_1 = pca_1.inverse_transform(components_1)\n",
    "plt.imshow(projected_1.reshape(112, 92), cmap = 'gray')\n",
    "\n",
    "pca_5 = PCA(5)\n",
    "pca_5.fit(img)\n",
    "components_5 = pca_5.transform(img)\n",
    "projected_5 = pca_5.inverse_transform(components_5)\n",
    "plt.imshow(projected_5.reshape(112, 92), cmap = 'gray')\n",
    "\n",
    "pca_10 = PCA(10)\n",
    "pca_10.fit(img)\n",
    "components_10 = pca_10.transform(img)\n",
    "projected_10 = pca_10.inverse_transform(components_10)\n",
    "plt.imshow(projected_10.reshape(112, 92), cmap = 'gray')\n",
    "\n",
    "pca_var_80 = PCA(.8)\n",
    "pca_var_80.fit(img)\n",
    "# need 3 PC for 80% variation\n",
    "print(len(pca_var_80.components_))\n",
    "components_var_80 = pca_var_80.transform(img)\n",
    "projected_var_80 = pca_var_80.inverse_transform(components_var_80)\n",
    "plt.imshow(projected_var_80.reshape(112, 92), cmap = 'gray')"
   ]
  },
  {
   "cell_type": "code",
   "execution_count": 12,
   "metadata": {},
   "outputs": [],
   "source": [
    "# Problem 5\n",
    "gym = pd.read_csv('hw4_2020_problem5_GymX.csv')\n",
    "missing_vals = []\n",
    "for i in gym:\n",
    "    missing_vals.append([i, len(gym) - gym[i].count()])\n",
    "# part a\n",
    "missing_vals_df = pd.DataFrame(missing_vals, columns = ['Column Name', '# Missing Values'])\n",
    "# part b: naive solution - remove rows with missing values - lost a bunch of data\n",
    "gym_naive = gym.dropna()\n",
    "# part c: better solution - regression imputation"
   ]
  },
  {
   "cell_type": "code",
   "execution_count": 13,
   "metadata": {},
   "outputs": [
    {
     "data": {
      "text/plain": [
       "<matplotlib.axes._subplots.AxesSubplot at 0x1a20f664d0>"
      ]
     },
     "execution_count": 13,
     "metadata": {},
     "output_type": "execute_result"
    },
    {
     "data": {
      "image/png": "[encoded data removed]",
      "text/plain": [
       "<Figure size 576x432 with 2 Axes>"
      ]
     },
     "metadata": {
      "needs_background": "light"
     },
     "output_type": "display_data"
    }
   ],
   "source": [
    "# correlation matrix of values\n",
    "var_corr = gym_naive.corr()\n",
    "plt.figure(4, figsize = (8, 6))\n",
    "sns.heatmap(var_corr, xticklabels = var_corr.columns, yticklabels = var_corr.columns, annot = False)"
   ]
  },
  {
   "cell_type": "code",
   "execution_count": 14,
   "metadata": {},
   "outputs": [
    {
     "name": "stdout",
     "output_type": "stream",
     "text": [
      "RMSE for Height:  0.5831449521725367\n"
     ]
    }
   ],
   "source": [
    "# Evaluating Model Fit for imputation: heights\n",
    "lm = linear_model.LinearRegression()\n",
    "missing_naive = gym_naive[['age', 'sex', 'height', 'weight']]\n",
    "x_height = missing_naive.drop('height', axis = 1)\n",
    "y_height = pd.DataFrame(missing_naive['height'])\n",
    "x_height_train, x_height_test, y_height_train, y_height_test = train_test_split(x_height, y_height, test_size = 0.3)\n",
    "# impute values based on regression. like mean imputation but this allows for diff means based on demographics\n",
    "# impute heights\n",
    "height_test_model = lm.fit(x_height_train, y_height_train)\n",
    "height_test_predicted = height_test_model.predict(x_height_test)\n",
    "rms = sqrt(mean_squared_error(y_height_test, height_test_predicted))\n",
    "print('RMSE for Height: ', rms)"
   ]
  },
  {
   "cell_type": "code",
   "execution_count": 15,
   "metadata": {},
   "outputs": [
    {
     "name": "stdout",
     "output_type": "stream",
     "text": [
      "RMSE:  28.140619502043208\n"
     ]
    }
   ],
   "source": [
    "# Evaluating Model Fit for imputation: Weights\n",
    "\n",
    "x_weight = missing_naive.drop('weight', axis = 1)\n",
    "y_weight = pd.DataFrame(missing_naive['weight'])\n",
    "x_weight_train, x_weight_test, y_weight_train, y_weight_test = train_test_split(x_weight, y_weight, test_size = 0.3)\n",
    "# impute values based on regression. like mean imputation but this allows for diff means based on demographics\n",
    "# impute weights\n",
    "weight_test_model = lm.fit(x_weight_train, y_weight_train)\n",
    "weight_test_predicted = weight_test_model.predict(x_weight_test)\n",
    "rms = sqrt(np.mean((y_weight_test - weight_test_predicted)**2))\n",
    "print('RMSE: ', rms)"
   ]
  },
  {
   "cell_type": "code",
   "execution_count": 16,
   "metadata": {
    "scrolled": true
   },
   "outputs": [
    {
     "name": "stderr",
     "output_type": "stream",
     "text": [
      "/Users/skatta/opt/anaconda3/lib/python3.7/site-packages/ipykernel_launcher.py:9: FutureWarning: set_value is deprecated and will be removed in a future release. Please use .at[] or .iat[] accessors instead\n",
      "  if __name__ == '__main__':\n"
     ]
    },
    {
     "name": "stdout",
     "output_type": "stream",
     "text": [
      "[0.00322973 0.24414104 0.00791759]\n"
     ]
    },
    {
     "name": "stderr",
     "output_type": "stream",
     "text": [
      "/Users/skatta/opt/anaconda3/lib/python3.7/site-packages/ipykernel_launcher.py:17: FutureWarning: set_value is deprecated and will be removed in a future release. Please use .at[] or .iat[] accessors instead\n",
      "/Users/skatta/opt/anaconda3/lib/python3.7/site-packages/pandas/core/indexing.py:494: SettingWithCopyWarning: \n",
      "A value is trying to be set on a copy of a slice from a DataFrame.\n",
      "Try using .loc[row_indexer,col_indexer] = value instead\n",
      "\n",
      "See the caveats in the documentation: http://pandas.pydata.org/pandas-docs/stable/user_guide/indexing.html#returning-a-view-versus-a-copy\n",
      "  self.obj[item] = s\n"
     ]
    },
    {
     "name": "stdout",
     "output_type": "stream",
     "text": [
      "[ 1.90065861 13.94502402 19.80550666]\n"
     ]
    },
    {
     "name": "stderr",
     "output_type": "stream",
     "text": [
      "/Users/skatta/opt/anaconda3/lib/python3.7/site-packages/ipykernel_launcher.py:25: FutureWarning: set_value is deprecated and will be removed in a future release. Please use .at[] or .iat[] accessors instead\n",
      "/Users/skatta/opt/anaconda3/lib/python3.7/site-packages/pandas/core/indexing.py:494: SettingWithCopyWarning: \n",
      "A value is trying to be set on a copy of a slice from a DataFrame.\n",
      "Try using .loc[row_indexer,col_indexer] = value instead\n",
      "\n",
      "See the caveats in the documentation: http://pandas.pydata.org/pandas-docs/stable/user_guide/indexing.html#returning-a-view-versus-a-copy\n",
      "  self.obj[item] = s\n"
     ]
    }
   ],
   "source": [
    "# drop na values for people who have at least 2 missing values - hard to impute\n",
    "indexes_membership = gym[gym['membership_type'].isnull()].index\n",
    "for i in indexes_membership:\n",
    "    if gym['age'][i] < 13:\n",
    "        gym.set_value(i, ['membership_type'], 'kids')\n",
    "    elif gym['age'][i] < 18:\n",
    "        gym.set_value(i, ['membership_type'], 'youth')\n",
    "    else:\n",
    "        gym.set_value(i, ['membership_type'], 'adults')\n",
    "gym2 = gym.dropna(thresh = 6)\n",
    "\n",
    "height_model = lm.fit(missing_naive.drop('height', axis = 1), missing_naive['height'])\n",
    "print(height_model.coef_)\n",
    "height_predict = height_model.predict(gym2[gym2['height'].isnull()][['age', 'sex', 'weight']])\n",
    "indexes_height = gym2[gym2['height'].isnull()].index\n",
    "for i in range(len(height_predict)):\n",
    "    gym2.set_value(indexes_height[i], ['height'], np.float64(height_predict[i]))\n",
    "\n",
    "# impute weights\n",
    "weight_model = lm.fit(missing_naive.drop('weight', axis = 1), missing_naive['weight'])\n",
    "print(weight_model.coef_)\n",
    "weight_predict = weight_model.predict(gym2[gym2['weight'].isnull()][['age', 'sex', 'height']])\n",
    "indexes_weight = gym2[gym2['weight'].isnull()].index\n",
    "for i in range(len(weight_predict)):\n",
    "    gym2.set_value(indexes_weight[i], ['weight'], np.float64(weight_predict[i]))\n"
   ]
  },
  {
   "cell_type": "code",
   "execution_count": 17,
   "metadata": {},
   "outputs": [
    {
     "data": {
      "image/png": "[encoded data removed]",
      "text/plain": [
       "<Figure size 432x288 with 2 Axes>"
      ]
     },
     "metadata": {
      "needs_background": "light"
     },
     "output_type": "display_data"
    },
    {
     "data": {
      "image/png": "[encoded data removed]",
      "text/plain": [
       "<Figure size 432x288 with 2 Axes>"
      ]
     },
     "metadata": {
      "needs_background": "light"
     },
     "output_type": "display_data"
    },
    {
     "data": {
      "image/png": "[encoded data removed]",
      "text/plain": [
       "<Figure size 432x288 with 2 Axes>"
      ]
     },
     "metadata": {
      "needs_background": "light"
     },
     "output_type": "display_data"
    },
    {
     "data": {
      "image/png": "[encoded data removed]",
      "text/plain": [
       "<Figure size 432x288 with 2 Axes>"
      ]
     },
     "metadata": {
      "needs_background": "light"
     },
     "output_type": "display_data"
    }
   ],
   "source": [
    "# plots comparing our naive and regression missing values handling methods\n",
    "\n",
    "# Age - regression is much more centered while naive is skewed to the right\n",
    "fig, axes = plt.subplots(1, 2)\n",
    "fig.text(0.5, 0, 'Age', ha='center', va = 'center')\n",
    "fig.text(0, 0.5, 'Frequency', ha='center', va = 'center', rotation = 'vertical')\n",
    "fig.text(0.5, 1, 'Missing Value Comparisons: Age', ha='center', va = 'center', fontsize = 12)\n",
    "axes[0].hist(gym2.age, color = 'r')\n",
    "axes[1].hist(gym_naive.age, color = 'b')\n",
    "axes[0].set_title('Regression Approach')\n",
    "axes[1].set_title('Naive Approach')\n",
    "plt.savefig('age.png', bbox_inches='tight')\n",
    "\n",
    "# Height - about the same across both methods\n",
    "fig, axes = plt.subplots(1, 2)\n",
    "fig.text(0.5, 0, 'Height', ha='center', va = 'center')\n",
    "fig.text(0, 0.5, 'Frequency', ha='center', va = 'center', rotation = 'vertical')\n",
    "fig.text(0.5, 1, 'Missing Value Comparisons: Height', ha='center', va = 'center', fontsize = 12)\n",
    "mean1 = ('Mean: ' + str(round(np.mean(gym2.height), 2)))\n",
    "sd1 = ('SD: ' + str(round(np.std(gym2.height), 2)))\n",
    "fig.text(0.25, 0.05, mean1, ha='center', va = 'center')\n",
    "fig.text(0.25, 0.00, sd1, ha='center', va = 'center')\n",
    "mean2 = ('Mean: ' + str(round(np.mean(gym_naive.height), 2)))\n",
    "sd2 = ('SD: ' + str(round(np.std(gym_naive.height), 2)))\n",
    "fig.text(0.75, 0.05, mean2, ha='center', va = 'center')\n",
    "fig.text(0.75, 0.00, sd2, ha='center', va = 'center')\n",
    "axes[0].hist(gym2.height, color = 'r')\n",
    "axes[1].hist(gym_naive.height, color = 'b')\n",
    "axes[0].set_title('Regression Approach')\n",
    "axes[1].set_title('Naive Approach')\n",
    "plt.savefig('height.png', bbox_inches='tight')\n",
    "\n",
    "# Weight - regression has a tighter fit\n",
    "fig, axes = plt.subplots(1, 2)\n",
    "fig.text(0.5, 0, 'Weight', ha='center', va = 'center')\n",
    "fig.text(0, 0.5, 'Frequency', ha='center', va = 'center', rotation = 'vertical')\n",
    "fig.text(0.5, 1, 'Missing Value Comparisons: Weight', ha='center', va = 'center', fontsize = 12)\n",
    "mean1 = ('Mean: ' + str(round(np.mean(gym2.weight), 2)))\n",
    "sd1 = ('SD: ' + str(round(np.std(gym2.weight), 2)))\n",
    "fig.text(0.25, 0.05, mean1, ha='center', va = 'center')\n",
    "fig.text(0.25, 0.00, sd1, ha='center', va = 'center')\n",
    "mean2 = ('Mean: ' + str(round(np.mean(gym_naive.weight), 2)))\n",
    "sd2 = ('SD: ' + str(round(np.std(gym_naive.weight), 2)))\n",
    "fig.text(0.75, 0.05, mean2, ha='center', va = 'center')\n",
    "fig.text(0.75, 0.00, sd2, ha='center', va = 'center')\n",
    "axes[0].hist(gym2.height, color = 'r')\n",
    "axes[1].hist(gym_naive.height, color = 'b')\n",
    "axes[0].set_title('Regression Approach')\n",
    "axes[1].set_title('Naive Approach')\n",
    "plt.savefig('weight.png', bbox_inches='tight')\n",
    "\n",
    "# Frequency - membership type and sex\n",
    "male_smpl1 = []\n",
    "fml_smpl1 = []\n",
    "male_smpl2 = []\n",
    "fml_smpl2 = []\n",
    "for i in ['adults', 'youth', 'kids']:\n",
    "    male_smpl1.append(len(gym2.loc[(gym2.sex == 1) & (gym2.membership_type == i)]))\n",
    "    male_smpl2.append(len(gym_naive.loc[(gym_naive.sex == 1) & (gym_naive.membership_type == i)]))\n",
    "    fml_smpl1.append(len(gym2.loc[(gym2.sex == 0) & (gym2.membership_type == i)]))\n",
    "    fml_smpl2.append(len(gym_naive.loc[(gym_naive.sex == 0) & (gym_naive.membership_type == i)]))\n",
    "data = pd.DataFrame(male_smpl1, fml_smpl1)\n",
    "\n",
    "X = np.arange(1, 4)\n",
    "fig, axes = plt.subplots(1, 2)\n",
    "axes[0].bar(X - .125, male_smpl1, color = 'b', width = 0.25)\n",
    "axes[0].bar(X + .125, fml_smpl1, color = 'r', width = 0.25)\n",
    "axes[1].bar(X - .125, male_smpl2, color = 'b', width = 0.25)\n",
    "axes[1].bar(X + .125, fml_smpl2, color = 'r', width = 0.25)\n",
    "plt.sca(axes[0])\n",
    "plt.xticks(np.arange(1, 4), ['Adults', 'Youth', 'Kids'])\n",
    "plt.title('Regression Approach')\n",
    "plt.sca(axes[1])\n",
    "plt.title('Naive Approach')\n",
    "plt.xticks(np.arange(1, 4), ['Adults', 'Youth', 'Kids'])\n",
    "axes[1].legend(['Male', 'Female'], loc = 1, title = 'Sex')\n",
    "fig.text(0.5, 0, 'Membership Type', ha='center', va = 'center')\n",
    "fig.text(0, 0.5, 'Frequency', ha='center', va = 'center', rotation = 'vertical')\n",
    "fig.text(0.5, 1, 'Missing Value Comparisons: Membership Type by Sex', ha='center', va = 'center', fontsize = 12)\n",
    "plt.savefig('membership_sex.png', bbox_inches='tight')"
   ]
  }
 ],
 "metadata": {
  "kernelspec": {
   "display_name": "Python 3",
   "language": "python",
   "name": "python3"
  },
  "language_info": {
   "codemirror_mode": {
    "name": "ipython",
    "version": 3
   },
   "file_extension": ".py",
   "mimetype": "text/x-python",
   "name": "python",
   "nbconvert_exporter": "python",
   "pygments_lexer": "ipython3",
   "version": "3.7.4"
  }
 },
 "nbformat": 4,
 "nbformat_minor": 2
}
